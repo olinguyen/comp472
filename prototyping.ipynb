{
 "cells": [
  {
   "cell_type": "code",
   "execution_count": 17,
   "metadata": {
    "collapsed": false
   },
   "outputs": [],
   "source": [
    "import display\n",
    "import game\n",
    "import search\n",
    "import util\n",
    "import hungrybirds\n",
    "\n",
    "%load_ext autoreload\n",
    "%autoreload 2"
   ]
  },
  {
   "cell_type": "code",
   "execution_count": 58,
   "metadata": {
    "collapsed": false
   },
   "outputs": [],
   "source": [
    "def create_board():\n",
    "    N = 8;\n",
    "    board = []\n",
    "\n",
    "    for i in range(N):\n",
    "        board_row = []\n",
    "        for j in range(N):\n",
    "            board_row.append(' ')\n",
    "        board.append(board_row)\n",
    "    return board\n",
    "\n"
   ]
  },
  {
   "cell_type": "code",
   "execution_count": 59,
   "metadata": {
    "collapsed": false
   },
   "outputs": [
    {
     "name": "stdout",
     "output_type": "stream",
     "text": [
      "The board look like this: \n",
      "\n",
      "    A     B     C     D     E     F     G     H   \n",
      "\n",
      "1      |     |     |     |     |     |     |     |  1 \n",
      "  -----------------------------------------------\n",
      "2      |     |     |     |     |     |     |     |  2 \n",
      "  -----------------------------------------------\n",
      "3      |     |     |     |     |     |     |     |  3 \n",
      "  -----------------------------------------------\n",
      "4      |     |     |     |     |     |     |     |  4 \n",
      "  -----------------------------------------------\n",
      "5      |     |     |     |     |     |     |     |  5 \n",
      "  -----------------------------------------------\n",
      "6      |     |     |     |     |     |     |     |  6 \n",
      "  -----------------------------------------------\n",
      "7      |     |     |     |     |     |     |     |  7 \n",
      "  -----------------------------------------------\n",
      "8      |     |     |     |     |     |     |     |  8 \n",
      "  -----------------------------------------------\n"
     ]
    }
   ],
   "source": [
    "\n",
    "board = create_board()\n",
    "print_board(board)"
   ]
  }
 ],
 "metadata": {
  "kernelspec": {
   "display_name": "Python 2",
   "language": "python",
   "name": "python2"
  },
  "language_info": {
   "codemirror_mode": {
    "name": "ipython",
    "version": 2
   },
   "file_extension": ".py",
   "mimetype": "text/x-python",
   "name": "python",
   "nbconvert_exporter": "python",
   "pygments_lexer": "ipython2",
   "version": "2.7.10"
  }
 },
 "nbformat": 4,
 "nbformat_minor": 0
}
