{
 "cells": [
  {
   "cell_type": "code",
   "execution_count": 1,
   "metadata": {
    "collapsed": false
   },
   "outputs": [],
   "source": [
    "import game\n",
    "\n",
    "%load_ext autoreload\n",
    "%autoreload 2"
   ]
  },
  {
   "cell_type": "code",
   "execution_count": null,
   "metadata": {
    "collapsed": false
   },
   "outputs": [
    {
     "name": "stdout",
     "output_type": "stream",
     "text": [
      "    A     B     C     D     E     F     G     H   \n",
      "\n",
      "8      |     |     |     |     |     |     |     |  8 \n",
      "  -----------------------------------------------\n",
      "7      |     |     |     |     |     |     |     |  7 \n",
      "  -----------------------------------------------\n",
      "6      |     |     |     |     |     |     |     |  6 \n",
      "  -----------------------------------------------\n",
      "5      |     |     |     |     |     |     |     |  5 \n",
      "  -----------------------------------------------\n",
      "4      |     |     |     |     |     |     |     |  4 \n",
      "  -----------------------------------------------\n",
      "3      |     |     |     |     |     |     |     |  3 \n",
      "  -----------------------------------------------\n",
      "2      |     |     |  L  |     |     |     |     |  2 \n",
      "  -----------------------------------------------\n",
      "1   B  |     |  B  |     |  B  |     |  B  |     |  1 \n",
      "  -----------------------------------------------\n",
      "Larva turn\n",
      "Enter move >> \n"
     ]
    }
   ],
   "source": [
    "g = game.Game()\n",
    "g.start()"
   ]
  }
 ],
 "metadata": {
  "kernelspec": {
   "display_name": "Python 2",
   "language": "python",
   "name": "python2"
  },
  "language_info": {
   "codemirror_mode": {
    "name": "ipython",
    "version": 2
   },
   "file_extension": ".py",
   "mimetype": "text/x-python",
   "name": "python",
   "nbconvert_exporter": "python",
   "pygments_lexer": "ipython2",
   "version": "2.7.10"
  }
 },
 "nbformat": 4,
 "nbformat_minor": 0
}
