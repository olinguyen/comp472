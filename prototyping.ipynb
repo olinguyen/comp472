{
 "cells": [
  {
   "cell_type": "code",
   "execution_count": 2,
   "metadata": {
    "collapsed": false
   },
   "outputs": [],
   "source": [
    "import display\n",
    "import game\n",
    "import search\n",
    "import util\n",
    "import hungrybirds\n",
    "\n",
    "%load_ext autoreload\n",
    "%autoreload 2"
   ]
  },
  {
   "cell_type": "markdown",
   "metadata": {},
   "source": [
    "##TODO\n",
    "\n",
    "1. Create board class\n",
    "    \n",
    "\n",
    "2. "
   ]
  },
  {
   "cell_type": "code",
   "execution_count": 78,
   "metadata": {
    "collapsed": false,
    "scrolled": true
   },
   "outputs": [
    {
     "data": {
      "text/plain": [
       "game.Larva"
      ]
     },
     "execution_count": 78,
     "metadata": {},
     "output_type": "execute_result"
    }
   ],
   "source": [
    "p = game.Larva(1,1)\n",
    "p.__class__"
   ]
  },
  {
   "cell_type": "code",
   "execution_count": 50,
   "metadata": {
    "collapsed": false
   },
   "outputs": [
    {
     "name": "stdout",
     "output_type": "stream",
     "text": [
      "0\n",
      "2\n",
      "4\n",
      "6\n"
     ]
    }
   ],
   "source": [
    "for i in range(2, 10, 2):\n",
    "    print i - 2"
   ]
  },
  {
   "cell_type": "code",
   "execution_count": 79,
   "metadata": {
    "collapsed": false
   },
   "outputs": [
    {
     "name": "stdout",
     "output_type": "stream",
     "text": [
      "The board look like this: \n",
      "\n",
      "    A     B     C     D     E     F     G     H   \n",
      "\n",
      "8      |     |     |     |     |     |     |     |  8 \n",
      "  -----------------------------------------------\n",
      "7      |     |     |     |     |     |     |     |  7 \n",
      "  -----------------------------------------------\n",
      "6      |     |     |     |     |     |     |     |  6 \n",
      "  -----------------------------------------------\n",
      "5      |     |     |     |     |     |     |     |  5 \n",
      "  -----------------------------------------------\n",
      "4      |     |     |     |     |     |     |     |  4 \n",
      "  -----------------------------------------------\n",
      "3      |     |     |     |     |     |     |     |  3 \n",
      "  -----------------------------------------------\n",
      "2      |     |     |  L  |     |     |     |     |  2 \n",
      "  -----------------------------------------------\n",
      "1   B  |     |  B  |     |  B  |     |  B  |     |  1 \n",
      "  -----------------------------------------------\n"
     ]
    }
   ],
   "source": [
    "board = game.Board()\n",
    "board.display()"
   ]
  }
 ],
 "metadata": {
  "kernelspec": {
   "display_name": "Python 2",
   "language": "python",
   "name": "python2"
  },
  "language_info": {
   "codemirror_mode": {
    "name": "ipython",
    "version": 2
   },
   "file_extension": ".py",
   "mimetype": "text/x-python",
   "name": "python",
   "nbconvert_exporter": "python",
   "pygments_lexer": "ipython2",
   "version": "2.7.10"
  }
 },
 "nbformat": 4,
 "nbformat_minor": 0
}
