{
 "cells": [
  {
   "cell_type": "code",
   "execution_count": 2,
   "metadata": {
    "collapsed": false
   },
   "outputs": [],
   "source": [
    "import game\n",
    "import search\n",
    "import util\n",
    "import hungrybirds\n",
    "\n",
    "%load_ext autoreload\n",
    "%autoreload 2"
   ]
  },
  {
   "cell_type": "code",
   "execution_count": 114,
   "metadata": {
    "collapsed": false,
    "scrolled": false
   },
   "outputs": [
    {
     "name": "stdout",
     "output_type": "stream",
     "text": [
      "    A     B     C     D     E     F     G     H   \n",
      "\n",
      "8      |     |     |     |     |     |     |     |  8 \n",
      "  -----------------------------------------------\n",
      "7      |     |     |     |     |     |     |     |  7 \n",
      "  -----------------------------------------------\n",
      "6      |     |     |     |     |     |     |     |  6 \n",
      "  -----------------------------------------------\n",
      "5      |     |     |     |     |     |     |     |  5 \n",
      "  -----------------------------------------------\n",
      "4      |     |     |     |     |     |     |     |  4 \n",
      "  -----------------------------------------------\n",
      "3      |     |     |     |     |     |     |     |  3 \n",
      "  -----------------------------------------------\n",
      "2      |     |     |  L  |     |     |     |     |  2 \n",
      "  -----------------------------------------------\n",
      "1   B  |     |  B  |     |  B  |     |  B  |     |  1 \n",
      "  -----------------------------------------------\n",
      "Larva turn\n",
      "Enter move >> asd aasd asdas\n",
      "Invalid move made\n",
      "Enter move >> SAD\n",
      "Invalid move made\n",
      "Enter move >> asd 1231 asd\n",
      "Invalid move made\n",
      "Enter move >> asd asiuqwioeuoqw\n",
      "Invalid move made\n",
      "Enter move >> asdjskajdklasjdA\n",
      "Invalid move made\n",
      "Enter move >> asjkldklasjd8971231\n",
      "Invalid move made\n",
      "Enter move >> D2 A2\n",
      "Invalid move made\n",
      "Enter move >> D2 E3\n",
      "Valid move made\n",
      "    A     B     C     D     E     F     G     H   \n",
      "\n",
      "8      |     |     |     |     |     |     |     |  8 \n",
      "  -----------------------------------------------\n",
      "7      |     |     |     |     |     |     |     |  7 \n",
      "  -----------------------------------------------\n",
      "6      |     |     |     |     |     |     |     |  6 \n",
      "  -----------------------------------------------\n",
      "5      |     |     |     |     |     |     |     |  5 \n",
      "  -----------------------------------------------\n",
      "4      |     |     |     |     |     |     |     |  4 \n",
      "  -----------------------------------------------\n",
      "3      |     |     |     |  L  |     |     |     |  3 \n",
      "  -----------------------------------------------\n",
      "2      |     |     |     |     |     |     |     |  2 \n",
      "  -----------------------------------------------\n",
      "1   B  |     |  B  |     |  B  |     |  B  |     |  1 \n",
      "  -----------------------------------------------\n",
      "Bird Turn\n",
      "Enter move >> s\n"
     ]
    },
    {
     "ename": "KeyboardInterrupt",
     "evalue": "",
     "output_type": "error",
     "traceback": [
      "\u001b[1;31m---------------------------------------------------------------------------\u001b[0m",
      "\u001b[1;31mKeyboardInterrupt\u001b[0m                         Traceback (most recent call last)",
      "\u001b[1;32m<ipython-input-114-5c32aee6c32c>\u001b[0m in \u001b[0;36m<module>\u001b[1;34m()\u001b[0m\n\u001b[0;32m      1\u001b[0m \u001b[0mg\u001b[0m \u001b[1;33m=\u001b[0m \u001b[0mgame\u001b[0m\u001b[1;33m.\u001b[0m\u001b[0mGame\u001b[0m\u001b[1;33m(\u001b[0m\u001b[1;33m)\u001b[0m\u001b[1;33m\u001b[0m\u001b[0m\n\u001b[1;32m----> 2\u001b[1;33m \u001b[0mg\u001b[0m\u001b[1;33m.\u001b[0m\u001b[0mstart\u001b[0m\u001b[1;33m(\u001b[0m\u001b[1;33m)\u001b[0m\u001b[1;33m\u001b[0m\u001b[0m\n\u001b[0m",
      "\u001b[1;32mC:\\Users\\Space\\Documents\\oli\\comp472\\game.py\u001b[0m in \u001b[0;36mstart\u001b[1;34m(self)\u001b[0m\n\u001b[0;32m     15\u001b[0m         \u001b[1;32mwhile\u001b[0m \u001b[0mTrue\u001b[0m\u001b[1;33m:\u001b[0m\u001b[1;33m\u001b[0m\u001b[0m\n\u001b[0;32m     16\u001b[0m             \u001b[0mself\u001b[0m\u001b[1;33m.\u001b[0m\u001b[0mboard\u001b[0m\u001b[1;33m.\u001b[0m\u001b[0mdisplay\u001b[0m\u001b[1;33m(\u001b[0m\u001b[1;33m)\u001b[0m\u001b[1;33m\u001b[0m\u001b[0m\n\u001b[1;32m---> 17\u001b[1;33m             \u001b[0mself\u001b[0m\u001b[1;33m.\u001b[0m\u001b[0mplayRound\u001b[0m\u001b[1;33m(\u001b[0m\u001b[1;33m)\u001b[0m\u001b[1;33m\u001b[0m\u001b[0m\n\u001b[0m\u001b[0;32m     18\u001b[0m             \u001b[1;32mif\u001b[0m \u001b[0mself\u001b[0m\u001b[1;33m.\u001b[0m\u001b[0misOver\u001b[0m\u001b[1;33m(\u001b[0m\u001b[1;33m)\u001b[0m\u001b[1;33m:\u001b[0m\u001b[1;33m\u001b[0m\u001b[0m\n\u001b[0;32m     19\u001b[0m                 \u001b[1;32mbreak\u001b[0m\u001b[1;33m\u001b[0m\u001b[0m\n",
      "\u001b[1;32mC:\\Users\\Space\\Documents\\oli\\comp472\\game.py\u001b[0m in \u001b[0;36mplayRound\u001b[1;34m(self)\u001b[0m\n\u001b[0;32m     29\u001b[0m \u001b[1;33m\u001b[0m\u001b[0m\n\u001b[0;32m     30\u001b[0m         \u001b[1;32mwhile\u001b[0m \u001b[0mTrue\u001b[0m\u001b[1;33m:\u001b[0m  \u001b[1;31m# Loop until valid move\u001b[0m\u001b[1;33m\u001b[0m\u001b[0m\n\u001b[1;32m---> 31\u001b[1;33m             \u001b[0msrc_coordinates\u001b[0m\u001b[1;33m,\u001b[0m \u001b[0mdst_coordinates\u001b[0m \u001b[1;33m=\u001b[0m \u001b[0mself\u001b[0m\u001b[1;33m.\u001b[0m\u001b[0mreadCommand\u001b[0m\u001b[1;33m(\u001b[0m\u001b[1;33m)\u001b[0m\u001b[1;33m\u001b[0m\u001b[0m\n\u001b[0m\u001b[0;32m     32\u001b[0m             \u001b[1;32mif\u001b[0m \u001b[0msrc_coordinates\u001b[0m \u001b[1;32mand\u001b[0m \u001b[0mself\u001b[0m\u001b[1;33m.\u001b[0m\u001b[0mvalidateMove\u001b[0m\u001b[1;33m(\u001b[0m\u001b[0msrc_coordinates\u001b[0m\u001b[1;33m,\u001b[0m \u001b[0mdst_coordinates\u001b[0m\u001b[1;33m)\u001b[0m\u001b[1;33m:\u001b[0m\u001b[1;33m\u001b[0m\u001b[0m\n\u001b[0;32m     33\u001b[0m                 \u001b[1;32mprint\u001b[0m \u001b[1;34m'Valid move made'\u001b[0m\u001b[1;33m\u001b[0m\u001b[0m\n",
      "\u001b[1;32mC:\\Users\\Space\\Documents\\oli\\comp472\\game.py\u001b[0m in \u001b[0;36mreadCommand\u001b[1;34m(self)\u001b[0m\n\u001b[0;32m     41\u001b[0m         \u001b[0mProcesses\u001b[0m \u001b[0mthe\u001b[0m \u001b[0mcommand\u001b[0m \u001b[0mused\u001b[0m \u001b[0mto\u001b[0m \u001b[0mrun\u001b[0m \u001b[0mthe\u001b[0m \u001b[0mgame\u001b[0m \u001b[1;32mfrom\u001b[0m \u001b[0mcommand\u001b[0m \u001b[0mline\u001b[0m\u001b[1;33m\u001b[0m\u001b[0m\n\u001b[0;32m     42\u001b[0m     \t\"\"\"\n\u001b[1;32m---> 43\u001b[1;33m         \u001b[0mcmd\u001b[0m \u001b[1;33m=\u001b[0m \u001b[0mraw_input\u001b[0m\u001b[1;33m(\u001b[0m\u001b[1;34m\"Enter move >> \"\u001b[0m\u001b[1;33m)\u001b[0m\u001b[1;33m\u001b[0m\u001b[0m\n\u001b[0m\u001b[0;32m     44\u001b[0m \u001b[1;33m\u001b[0m\u001b[0m\n\u001b[0;32m     45\u001b[0m         \u001b[1;32mif\u001b[0m \u001b[0mcmd\u001b[0m \u001b[1;32mis\u001b[0m \u001b[0mNone\u001b[0m \u001b[1;32mor\u001b[0m \u001b[1;32mnot\u001b[0m \u001b[1;34m' '\u001b[0m \u001b[1;32min\u001b[0m \u001b[0mcmd\u001b[0m\u001b[1;33m:\u001b[0m\u001b[1;33m\u001b[0m\u001b[0m\n",
      "\u001b[1;32mC:\\Users\\Space\\Anaconda\\lib\\site-packages\\IPython\\kernel\\zmq\\kernelbase.pyc\u001b[0m in \u001b[0;36mraw_input\u001b[1;34m(self, prompt)\u001b[0m\n\u001b[0;32m    649\u001b[0m             \u001b[0mself\u001b[0m\u001b[1;33m.\u001b[0m\u001b[0m_parent_ident\u001b[0m\u001b[1;33m,\u001b[0m\u001b[1;33m\u001b[0m\u001b[0m\n\u001b[0;32m    650\u001b[0m             \u001b[0mself\u001b[0m\u001b[1;33m.\u001b[0m\u001b[0m_parent_header\u001b[0m\u001b[1;33m,\u001b[0m\u001b[1;33m\u001b[0m\u001b[0m\n\u001b[1;32m--> 651\u001b[1;33m             \u001b[0mpassword\u001b[0m\u001b[1;33m=\u001b[0m\u001b[0mFalse\u001b[0m\u001b[1;33m,\u001b[0m\u001b[1;33m\u001b[0m\u001b[0m\n\u001b[0m\u001b[0;32m    652\u001b[0m         )\n\u001b[0;32m    653\u001b[0m \u001b[1;33m\u001b[0m\u001b[0m\n",
      "\u001b[1;32mC:\\Users\\Space\\Anaconda\\lib\\site-packages\\IPython\\kernel\\zmq\\kernelbase.pyc\u001b[0m in \u001b[0;36m_input_request\u001b[1;34m(self, prompt, ident, parent, password)\u001b[0m\n\u001b[0;32m    679\u001b[0m             \u001b[1;32mexcept\u001b[0m \u001b[0mKeyboardInterrupt\u001b[0m\u001b[1;33m:\u001b[0m\u001b[1;33m\u001b[0m\u001b[0m\n\u001b[0;32m    680\u001b[0m                 \u001b[1;31m# re-raise KeyboardInterrupt, to truncate traceback\u001b[0m\u001b[1;33m\u001b[0m\u001b[1;33m\u001b[0m\u001b[0m\n\u001b[1;32m--> 681\u001b[1;33m                 \u001b[1;32mraise\u001b[0m \u001b[0mKeyboardInterrupt\u001b[0m\u001b[1;33m\u001b[0m\u001b[0m\n\u001b[0m\u001b[0;32m    682\u001b[0m             \u001b[1;32melse\u001b[0m\u001b[1;33m:\u001b[0m\u001b[1;33m\u001b[0m\u001b[0m\n\u001b[0;32m    683\u001b[0m                 \u001b[1;32mbreak\u001b[0m\u001b[1;33m\u001b[0m\u001b[0m\n",
      "\u001b[1;31mKeyboardInterrupt\u001b[0m: "
     ]
    }
   ],
   "source": [
    "g = game.Game()\n",
    "g.start()"
   ]
  },
  {
   "cell_type": "code",
   "execution_count": null,
   "metadata": {
    "collapsed": true
   },
   "outputs": [],
   "source": []
  }
 ],
 "metadata": {
  "kernelspec": {
   "display_name": "Python 2",
   "language": "python",
   "name": "python2"
  },
  "language_info": {
   "codemirror_mode": {
    "name": "ipython",
    "version": 2
   },
   "file_extension": ".py",
   "mimetype": "text/x-python",
   "name": "python",
   "nbconvert_exporter": "python",
   "pygments_lexer": "ipython2",
   "version": "2.7.10"
  }
 },
 "nbformat": 4,
 "nbformat_minor": 0
}
