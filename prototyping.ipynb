{
 "cells": [
  {
   "cell_type": "code",
   "execution_count": 2,
   "metadata": {
    "collapsed": false
   },
   "outputs": [
    {
     "name": "stdout",
     "output_type": "stream",
     "text": [
      "The autoreload extension is already loaded. To reload it, use:\n",
      "  %reload_ext autoreload\n"
     ]
    }
   ],
   "source": [
    "import game\n",
    "import time\n",
    "from util import getValue\n",
    "\n",
    "%load_ext autoreload\n",
    "%autoreload 2"
   ]
  },
  {
   "cell_type": "code",
   "execution_count": 27,
   "metadata": {
    "collapsed": false
   },
   "outputs": [
    {
     "name": "stdout",
     "output_type": "stream",
     "text": [
      "<type 'type'>\n"
     ]
    }
   ],
   "source": [
    "import agent\n",
    "print agent.Bird.__class__"
   ]
  },
  {
   "cell_type": "code",
   "execution_count": null,
   "metadata": {
    "collapsed": false
   },
   "outputs": [
    {
     "name": "stdout",
     "output_type": "stream",
     "text": [
      "    A     B     C     D     E     F     G     H   \n",
      "\n",
      "8      |     |     |     |     |     |     |     |  8 \n",
      "  -----------------------------------------------\n",
      "7      |     |     |     |     |     |     |     |  7 \n",
      "  -----------------------------------------------\n",
      "6      |     |     |     |     |     |     |     |  6 \n",
      "  -----------------------------------------------\n",
      "5      |     |     |     |     |     |     |     |  5 \n",
      "  -----------------------------------------------\n",
      "4      |     |     |     |     |     |     |     |  4 \n",
      "  -----------------------------------------------\n",
      "3      |     |     |     |     |     |     |     |  3 \n",
      "  -----------------------------------------------\n",
      "2      |     |     |  L  |     |     |     |     |  2 \n",
      "  -----------------------------------------------\n",
      "1   B  |     |  B  |     |  B  |     |  B  |     |  1 \n",
      "  -----------------------------------------------\n",
      "Larva turn\n",
      "Enter move >> \n"
     ]
    }
   ],
   "source": [
    "g = game.Game()\n",
    "g.start()"
   ]
  },
  {
   "cell_type": "code",
   "execution_count": 29,
   "metadata": {
    "collapsed": false
   },
   "outputs": [
    {
     "ename": "TypeError",
     "evalue": "'int' object is not iterable",
     "output_type": "error",
     "traceback": [
      "\u001b[1;31m---------------------------------------------------------------------------\u001b[0m",
      "\u001b[1;31mTypeError\u001b[0m                                 Traceback (most recent call last)",
      "\u001b[1;32m<ipython-input-29-369ddcb20c00>\u001b[0m in \u001b[0;36m<module>\u001b[1;34m()\u001b[0m\n\u001b[1;32m----> 1\u001b[1;33m \u001b[0mlist\u001b[0m\u001b[1;33m(\u001b[0m\u001b[1;36m5\u001b[0m\u001b[1;33m)\u001b[0m\u001b[1;33m\u001b[0m\u001b[0m\n\u001b[0m",
      "\u001b[1;31mTypeError\u001b[0m: 'int' object is not iterable"
     ]
    }
   ],
   "source": [
    "list(5)"
   ]
  },
  {
   "cell_type": "code",
   "execution_count": 22,
   "metadata": {
    "collapsed": false
   },
   "outputs": [
    {
     "name": "stdout",
     "output_type": "stream",
     "text": [
      "    A     B     C     D     E     F     G     H   \n",
      "\n",
      "8      |     |     |     |     |     |     |     |  8 \n",
      "  -----------------------------------------------\n",
      "7      |     |     |     |     |     |     |     |  7 \n",
      "  -----------------------------------------------\n",
      "6      |     |     |     |     |     |     |     |  6 \n",
      "  -----------------------------------------------\n",
      "5      |     |     |     |     |     |     |     |  5 \n",
      "  -----------------------------------------------\n",
      "4      |     |     |     |     |     |     |     |  4 \n",
      "  -----------------------------------------------\n",
      "3      |     |     |     |     |     |     |     |  3 \n",
      "  -----------------------------------------------\n",
      "2      |     |     |  L  |     |     |     |     |  2 \n",
      "  -----------------------------------------------\n",
      "1   B  |     |  B  |     |  B  |     |  B  |     |  1 \n",
      "  -----------------------------------------------\n"
     ]
    },
    {
     "data": {
      "text/plain": [
       "-188"
      ]
     },
     "execution_count": 22,
     "metadata": {},
     "output_type": "execute_result"
    }
   ],
   "source": [
    "from board import Board\n",
    "b = Board()\n",
    "b.display()\n",
    "b.getBasicHeuristic()"
   ]
  }
 ],
 "metadata": {
  "kernelspec": {
   "display_name": "Python 2",
   "language": "python",
   "name": "python2"
  },
  "language_info": {
   "codemirror_mode": {
    "name": "ipython",
    "version": 2
   },
   "file_extension": ".py",
   "mimetype": "text/x-python",
   "name": "python",
   "nbconvert_exporter": "python",
   "pygments_lexer": "ipython2",
   "version": "2.7.10"
  }
 },
 "nbformat": 4,
 "nbformat_minor": 0
}
